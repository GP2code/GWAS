{
 "cells": [
  {
   "cell_type": "code",
   "execution_count": 1,
   "metadata": {},
   "outputs": [],
   "source": [
    "import subprocess\n",
    "import argparse\n",
    "# import hail as hl\n",
    "import pandas as pd\n",
    "import sys\n",
    "import os\n",
    "from sys import platform\n",
    "import random"
   ]
  },
  {
   "cell_type": "code",
   "execution_count": 2,
   "metadata": {},
   "outputs": [],
   "source": [
    "# DATAPATH = \"/data/vitaled2/PDBP/\"\n",
    "# os.chdir(DATAPATH)"
   ]
  },
  {
   "cell_type": "code",
   "execution_count": 3,
   "metadata": {},
   "outputs": [
    {
     "name": "stdout",
     "output_type": "stream",
     "text": [
      "PLINK has successfully been loaded to your path!\n"
     ]
    }
   ],
   "source": [
    "def get_platform():\n",
    "    platforms = {\n",
    "        \"linux\" : \"linux\",\n",
    "        \"linux1\" : \"linux\",\n",
    "        \"linux2\" : \"linux\",\n",
    "        \"darwin\" : \"mac\"\n",
    "    }\n",
    "    if sys.platform not in platforms:\n",
    "        return str(sys.platform) + \" is not currently supported. Please use mac or linux\"\n",
    "    elif platforms[sys.platform] == \"mac\":\n",
    "        filename_mac = \"plink/mac/\"\n",
    "        directory_mac = os.getcwd() + \"/\" + filename_mac\n",
    "        os.environ[\"PATH\"] = os.environ[\"PATH\"] + os.pathsep + directory_mac\n",
    "    else:\n",
    "        filename_linux = \"plink/linux/\"\n",
    "        directory_linux = os.getcwd() + \"/\" + filename_linux\n",
    "        os.environ[\"PATH\"] = os.environ[\"PATH\"] + os.pathsep + directory_linux\n",
    "    return print(\"PLINK has successfully been loaded to your path!\")\n",
    "\n",
    "\n",
    "# Run and get the proper PLINK to path\n",
    "get_platform()\n",
    "\n",
    "# Set seed for reproducibility!\n",
    "random.seed(75629814343)"
   ]
  },
  {
   "cell_type": "code",
   "execution_count": null,
   "metadata": {},
   "outputs": [],
   "source": []
  },
  {
   "cell_type": "code",
   "execution_count": 6,
   "metadata": {},
   "outputs": [
    {
     "name": "stdout",
     "output_type": "stream",
     "text": [
      "GENOTYPE FILES ./PDBP_copy/PLINK.PDBP\n"
     ]
    }
   ],
   "source": [
    "%run -i ./scripts/munging.py\\\n",
    "--geno ./PDBP_copy/PLINK.PDBP\\\n",
    "--out ./PDBP_copy/\n"
   ]
  },
  {
   "cell_type": "code",
   "execution_count": null,
   "metadata": {},
   "outputs": [],
   "source": []
  },
  {
   "cell_type": "code",
   "execution_count": null,
   "metadata": {},
   "outputs": [],
   "source": [
    " "
   ]
  },
  {
   "cell_type": "code",
   "execution_count": null,
   "metadata": {},
   "outputs": [],
   "source": []
  },
  {
   "cell_type": "code",
   "execution_count": null,
   "metadata": {},
   "outputs": [],
   "source": []
  },
  {
   "cell_type": "code",
   "execution_count": null,
   "metadata": {},
   "outputs": [],
   "source": []
  }
 ],
 "metadata": {
  "kernelspec": {
   "display_name": "Python 3",
   "language": "python",
   "name": "python3"
  },
  "language_info": {
   "codemirror_mode": {
    "name": "ipython",
    "version": 3
   },
   "file_extension": ".py",
   "mimetype": "text/x-python",
   "name": "python",
   "nbconvert_exporter": "python",
   "pygments_lexer": "ipython3",
   "version": "3.6.7"
  }
 },
 "nbformat": 4,
 "nbformat_minor": 4
}
