{
 "cells": [
  {
   "cell_type": "code",
   "execution_count": 1,
   "metadata": {},
   "outputs": [],
   "source": [
    "import subprocess\n",
    "import argparse\n",
    "# import hail as hl\n",
    "import pandas as pd\n",
    "import sys\n",
    "import os\n",
    "from sys import platform\n",
    "import random"
   ]
  },
  {
   "cell_type": "code",
   "execution_count": null,
   "metadata": {},
   "outputs": [],
   "source": []
  },
  {
   "cell_type": "code",
   "execution_count": 2,
   "metadata": {},
   "outputs": [
    {
     "name": "stdout",
     "output_type": "stream",
     "text": [
      "PLINK has successfully been loaded to your path!\n"
     ]
    }
   ],
   "source": [
    "def get_platform():\n",
    "    platforms = {\n",
    "        \"linux\" : \"linux\",\n",
    "        \"linux1\" : \"linux\",\n",
    "        \"linux2\" : \"linux\",\n",
    "        \"darwin\" : \"mac\"\n",
    "    }\n",
    "    if sys.platform not in platforms:\n",
    "        return str(sys.platform) + \" is not currently supported. Please use mac or linux\"\n",
    "    elif platforms[sys.platform] == \"mac\":\n",
    "        filename_mac = \"plink/mac/\"\n",
    "        directory_mac = os.getcwd() + \"/\" + filename_mac\n",
    "        os.environ[\"PATH\"] = os.environ[\"PATH\"] + os.pathsep + directory_mac\n",
    "    else:\n",
    "        filename_linux = \"plink/linux/\"\n",
    "        directory_linux = os.getcwd() + \"/\" + filename_linux\n",
    "        os.environ[\"PATH\"] = os.environ[\"PATH\"] + os.pathsep + directory_linux\n",
    "    return print(\"PLINK has successfully been loaded to your path!\")\n",
    "\n",
    "\n",
    "# Run and get the proper PLINK to path\n",
    "get_platform()\n",
    "\n",
    "# Set seed for reproducibility!\n",
    "random.seed(75629814343)"
   ]
  },
  {
   "cell_type": "code",
   "execution_count": 14,
   "metadata": {},
   "outputs": [
    {
     "name": "stdout",
     "output_type": "stream",
     "text": [
      "PROCESSING THE FOLLOWING GENOTYPES: test_data/test_data\n",
      "\n",
      "PRUNING FOR CALL RATE\n",
      "logging to test_data/test_data.PLINK_STEPS.log\n",
      "***********************************************\n",
      "\n",
      "PRUNING FOR HETEROZYGOSITY\n",
      "logging to test_data/test_data.PLINK_STEPS.log\n",
      "***********************************************\n",
      "\n",
      "CHECKING SEXES\n",
      "logging to test_data/test_data.PLINK_STEPS.log\n",
      "***********************************************\n",
      "\n",
      "RELATEDNESS PRUNING\n",
      "logging to test_data/test_data.PLINK_STEPS.log\n",
      "***********************************************\n",
      "\n",
      "VARIANT-LEVEL PRUNING\n",
      "logging to test_data/test_data.PLINK_STEPS.log\n",
      "***********************************************\n",
      "\n",
      "RARE VARIANTS (MAF <= 0.O1) PRUNING\n",
      "logging to test_data/test_data.PLINK_STEPS.log\n",
      "***********************************************\n",
      "\n",
      "CLEANING UP THE DIRECTORY OF INTERMEDIATE FILES\n",
      "***********************************************\n",
      "\n",
      "DONE!!!!!!!\n"
     ]
    }
   ],
   "source": [
    "# Run data munging script to prepare data for GWAS\n",
    "%run -i qc_steps.py\\\n",
    "--geno test_data/test_data"
   ]
  },
  {
   "cell_type": "code",
   "execution_count": null,
   "metadata": {},
   "outputs": [],
   "source": [
    "# run imputation!!!!!\n",
    "\n",
    "%run -i /data/vitaled2/GWAS/scripts/impute.py\\\n",
    "--geno /data/vitaled2/test_data/ADNI/clean/adni_het_call_rate_sex_relatedness_geno\\\n",
    "--out /data/vitaled2/test_data/ADNI/imputed/"
   ]
  },
  {
   "cell_type": "code",
   "execution_count": null,
   "metadata": {},
   "outputs": [],
   "source": [
    "# run data prep for meta analysis\n",
    "%run -i /data/vitaled2/GWAS/scripts/meta_analysis_data_prep.py\\\n",
    "--tab /data/vitaled2/summary_stats/rvtest_files/\\\n",
    "--out_gwama /data/vitaled2/summary_stats/\\\n",
    "--out_metasoft /data/vitaled2/summary_stats/\\\n",
    "--out_plink /data/vitaled2/summary_stats/"
   ]
  },
  {
   "cell_type": "code",
   "execution_count": null,
   "metadata": {},
   "outputs": [],
   "source": [
    "%run -i /data/vitaled2/GWAS/scripts/genome_studio_multi_caller.py --idats /data/vitaled2/genomestudio/idat_paths.txt \\\n",
    "--egt /data/vitaled2/genomestudio/GSAv3Demo/Manifest_cluster_files/GSA-24v3-0_A1_ClusterFile.egt \\\n",
    "--bpm /data/vitaled2/genomestudio/GSAv3Demo/Manifest_cluster_files/GSA-24v3-0_A2.bpm \\\n",
    "--out /data/vitaled2/genomestudio/output"
   ]
  },
  {
   "cell_type": "code",
   "execution_count": null,
   "metadata": {},
   "outputs": [],
   "source": []
  }
 ],
 "metadata": {
  "kernelspec": {
   "display_name": "Python 3",
   "language": "python",
   "name": "python3"
  },
  "language_info": {
   "codemirror_mode": {
    "name": "ipython",
    "version": 3
   },
   "file_extension": ".py",
   "mimetype": "text/x-python",
   "name": "python",
   "nbconvert_exporter": "python",
   "pygments_lexer": "ipython3",
   "version": "3.6.7"
  }
 },
 "nbformat": 4,
 "nbformat_minor": 4
}
