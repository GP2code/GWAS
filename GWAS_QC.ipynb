{
 "cells": [
  {
   "cell_type": "code",
   "execution_count": 1,
   "metadata": {},
   "outputs": [],
   "source": [
    "import subprocess\n",
    "import argparse\n",
    "# import hail as hl\n",
    "import pandas as pd\n",
    "import sys\n",
    "import os\n",
    "from sys import platform\n",
    "import random"
   ]
  },
  {
   "cell_type": "code",
   "execution_count": null,
   "metadata": {},
   "outputs": [],
   "source": []
  },
  {
   "cell_type": "code",
   "execution_count": 2,
   "metadata": {},
   "outputs": [
    {
     "name": "stdout",
     "output_type": "stream",
     "text": [
      "PLINK has successfully been loaded to your path!\n"
     ]
    }
   ],
   "source": [
    "def get_platform():\n",
    "    platforms = {\n",
    "        \"linux\" : \"linux\",\n",
    "        \"linux1\" : \"linux\",\n",
    "        \"linux2\" : \"linux\",\n",
    "        \"darwin\" : \"mac\"\n",
    "    }\n",
    "    if sys.platform not in platforms:\n",
    "        return str(sys.platform) + \" is not currently supported. Please use mac or linux\"\n",
    "    elif platforms[sys.platform] == \"mac\":\n",
    "        filename_mac = \"plink/mac/\"\n",
    "        directory_mac = os.getcwd() + \"/\" + filename_mac\n",
    "        os.environ[\"PATH\"] = os.environ[\"PATH\"] + os.pathsep + directory_mac\n",
    "    else:\n",
    "        filename_linux = \"plink/linux/\"\n",
    "        directory_linux = os.getcwd() + \"/\" + filename_linux\n",
    "        os.environ[\"PATH\"] = os.environ[\"PATH\"] + os.pathsep + directory_linux\n",
    "    return print(\"PLINK has successfully been loaded to your path!\")\n",
    "\n",
    "\n",
    "# Run and get the proper PLINK to path\n",
    "get_platform()\n",
    "\n",
    "# Set seed for reproducibility!\n",
    "random.seed(75629814343)"
   ]
  },
  {
   "cell_type": "code",
   "execution_count": null,
   "metadata": {},
   "outputs": [
    {
     "name": "stdout",
     "output_type": "stream",
     "text": [
      "PROCESSING THE FOLLOWING GENOTYPES: /data/vitaled2/test_data/ADNI/clean/adni\n",
      "NOW PRUNING FOR HETEROZYGOSITY\n",
      "PRUNING FOR CALL RATE\n",
      "CHECKING SEXES\n",
      "RELATEDNESS PRUNING\n"
     ]
    }
   ],
   "source": [
    "# Run data munging script to prepare data for GWAS\n",
    "%run -i /data/vitaled2/GWAS/scripts/munging.py\\\n",
    "--geno /data/vitaled2/test_data/ADNI/clean/adni\\\n",
    "--out /data/vitaled2/test_data/ADNI/clean/"
   ]
  },
  {
   "cell_type": "code",
   "execution_count": 1,
   "metadata": {},
   "outputs": [
    {
     "name": "stdout",
     "output_type": "stream",
     "text": [
      "NOW PARSING: \n",
      "/data/vitaled2/summary_stats/rvtest_files/toMeta.COURAGE_UK.tab\n",
      "/data/vitaled2/summary_stats/rvtest_files/toMeta.HBS.tab\n",
      "/data/vitaled2/summary_stats/rvtest_files/toMeta.IPDGC.tab\n",
      "/data/vitaled2/summary_stats/rvtest_files/toMeta.PDBP.tab\n",
      "/data/vitaled2/summary_stats/rvtest_files/toMeta.PPMI.tab\n",
      "TO PLINK .assoc FORMAT\n",
      "\n",
      "Parsing...\n",
      "\n",
      "PLINK .assoc file written to:\n",
      "/data/vitaled2/summary_stats/COURAGE_UK_random_effect_data.assoc\n",
      "PLINK .assoc file written to:\n",
      "/data/vitaled2/summary_stats/HBS_random_effect_data.assoc\n",
      "PLINK .assoc file written to:\n",
      "/data/vitaled2/summary_stats/IPDGC_random_effect_data.assoc\n",
      "PLINK .assoc file written to:\n",
      "/data/vitaled2/summary_stats/PDBP_random_effect_data.assoc\n",
      "PLINK .assoc file written to:\n",
      "/data/vitaled2/summary_stats/PPMI_random_effect_data.assoc\n",
      "DONE!\n",
      "\n",
      "NOW PARSING: \n",
      "/data/vitaled2/summary_stats/rvtest_files/toMeta.COURAGE_UK.tab\n",
      "/data/vitaled2/summary_stats/rvtest_files/toMeta.HBS.tab\n",
      "/data/vitaled2/summary_stats/rvtest_files/toMeta.IPDGC.tab\n",
      "/data/vitaled2/summary_stats/rvtest_files/toMeta.PDBP.tab\n",
      "/data/vitaled2/summary_stats/rvtest_files/toMeta.PPMI.tab\n",
      "TO METASOFT .txt FORMAT\n",
      "\n",
      "Parsing...\n",
      "\n",
      "Metasoft .txt file written to:\n",
      "/data/vitaled2/summary_stats/random_effect_model_5_cohorts.txt\n",
      "DONE!\n",
      "\n",
      "NOW PARSING: \n",
      "/data/vitaled2/summary_stats/rvtest_files/toMeta.COURAGE_UK.tab\n",
      "/data/vitaled2/summary_stats/rvtest_files/toMeta.HBS.tab\n",
      "/data/vitaled2/summary_stats/rvtest_files/toMeta.IPDGC.tab\n",
      "/data/vitaled2/summary_stats/rvtest_files/toMeta.PDBP.tab\n",
      "/data/vitaled2/summary_stats/rvtest_files/toMeta.PPMI.tab\n",
      "TO GWAMA .txt FORMAT\n",
      "\n",
      "Parsing...\n",
      "\n",
      "GWAMA .txt file written to:\n",
      "/data/vitaled2/summary_stats/COURAGE_UK_GWAMA_random_effect_data.txt\n",
      "GWAMA .txt file written to:\n",
      "/data/vitaled2/summary_stats/HBS_GWAMA_random_effect_data.txt\n",
      "GWAMA .txt file written to:\n",
      "/data/vitaled2/summary_stats/IPDGC_GWAMA_random_effect_data.txt\n",
      "GWAMA .txt file written to:\n",
      "/data/vitaled2/summary_stats/PDBP_GWAMA_random_effect_data.txt\n",
      "GWAMA .txt file written to:\n",
      "/data/vitaled2/summary_stats/PPMI_GWAMA_random_effect_data.txt\n",
      "DONE!\n",
      "\n"
     ]
    }
   ],
   "source": [
    "# run data prep for meta analysis\n",
    "%run -i /data/vitaled2/GWAS/scripts/meta_analysis_data_prep.py\\\n",
    "--tab /data/vitaled2/summary_stats/rvtest_files/\\\n",
    "--out_gwama /data/vitaled2/summary_stats/\\\n",
    "--out_metasoft /data/vitaled2/summary_stats/\\\n",
    "--out_plink /data/vitaled2/summary_stats/"
   ]
  },
  {
   "cell_type": "code",
   "execution_count": null,
   "metadata": {},
   "outputs": [],
   "source": []
  },
  {
   "cell_type": "code",
   "execution_count": null,
   "metadata": {},
   "outputs": [],
   "source": []
  }
 ],
 "metadata": {
  "kernelspec": {
   "display_name": "Python 3",
   "language": "python",
   "name": "python3"
  },
  "language_info": {
   "codemirror_mode": {
    "name": "ipython",
    "version": 3
   },
   "file_extension": ".py",
   "mimetype": "text/x-python",
   "name": "python",
   "nbconvert_exporter": "python",
   "pygments_lexer": "ipython3",
   "version": "3.6.7"
  }
 },
 "nbformat": 4,
 "nbformat_minor": 4
}
