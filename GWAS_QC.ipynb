{
 "cells": [
  {
   "cell_type": "code",
   "execution_count": 1,
   "metadata": {},
   "outputs": [],
   "source": [
    "import subprocess\n",
    "import argparse\n",
    "# import hail as hl\n",
    "import pandas as pd\n",
    "import sys\n",
    "import os\n",
    "from sys import platform\n",
    "import random"
   ]
  },
  {
   "cell_type": "code",
   "execution_count": null,
   "metadata": {},
   "outputs": [],
   "source": []
  },
  {
   "cell_type": "code",
   "execution_count": 2,
   "metadata": {},
   "outputs": [
    {
     "name": "stdout",
     "output_type": "stream",
     "text": [
      "PLINK has successfully been loaded to your path!\n"
     ]
    }
   ],
   "source": [
    "def get_platform():\n",
    "    platforms = {\n",
    "        \"linux\" : \"linux\",\n",
    "        \"linux1\" : \"linux\",\n",
    "        \"linux2\" : \"linux\",\n",
    "        \"darwin\" : \"mac\"\n",
    "    }\n",
    "    if sys.platform not in platforms:\n",
    "        return str(sys.platform) + \" is not currently supported. Please use mac or linux\"\n",
    "    elif platforms[sys.platform] == \"mac\":\n",
    "        filename_mac = \"plink/mac/\"\n",
    "        directory_mac = os.getcwd() + \"/\" + filename_mac\n",
    "        os.environ[\"PATH\"] = os.environ[\"PATH\"] + os.pathsep + directory_mac\n",
    "    else:\n",
    "        filename_linux = \"plink/linux/\"\n",
    "        directory_linux = os.getcwd() + \"/\" + filename_linux\n",
    "        os.environ[\"PATH\"] = os.environ[\"PATH\"] + os.pathsep + directory_linux\n",
    "    return print(\"PLINK has successfully been loaded to your path!\")\n",
    "\n",
    "\n",
    "# Run and get the proper PLINK to path\n",
    "get_platform()\n",
    "\n",
    "# Set seed for reproducibility!\n",
    "random.seed(75629814343)"
   ]
  },
  {
   "cell_type": "code",
   "execution_count": 3,
   "metadata": {},
   "outputs": [
    {
     "name": "stdout",
     "output_type": "stream",
     "text": [
      "PROCESSING THE FOLLOWING GENOTYPES: /data/vitaled2/test_data/ADNI/clean/adni\n",
      "NOW PRUNING FOR HETEROZYGOSITY\n",
      "PRUNING FOR CALL RATE\n",
      "CHECKING SEXES\n",
      "RELATEDNESS PRUNING\n",
      "VARIANT-LEVEL PRUNING\n"
     ]
    }
   ],
   "source": [
    "# Run data munging script to prepare data for GWAS\n",
    "%run -i /data/vitaled2/GWAS/scripts/QC.py\\\n",
    "--geno /data/vitaled2/test_data/ADNI/clean/adni\\\n",
    "--out /data/vitaled2/test_data/ADNI/clean/"
   ]
  },
  {
   "cell_type": "code",
   "execution_count": 4,
   "metadata": {},
   "outputs": [
    {
     "name": "stdout",
     "output_type": "stream",
     "text": [
      "plink --bfile /data/vitaled2/test_data/ADNI/clean/adni_het_call_rate_sex_relatedness_geno-updated-chr1 --recode vcf --chr 1 --out /data/vitaled2/test_data/ADNI/clean/adni_het_call_rate_sex_relatedness_geno_chr1\n",
      "plink --bfile /data/vitaled2/test_data/ADNI/clean/adni_het_call_rate_sex_relatedness_geno-updated-chr2 --recode vcf --chr 2 --out /data/vitaled2/test_data/ADNI/clean/adni_het_call_rate_sex_relatedness_geno_chr2\n",
      "plink --bfile /data/vitaled2/test_data/ADNI/clean/adni_het_call_rate_sex_relatedness_geno-updated-chr3 --recode vcf --chr 3 --out /data/vitaled2/test_data/ADNI/clean/adni_het_call_rate_sex_relatedness_geno_chr3\n",
      "plink --bfile /data/vitaled2/test_data/ADNI/clean/adni_het_call_rate_sex_relatedness_geno-updated-chr4 --recode vcf --chr 4 --out /data/vitaled2/test_data/ADNI/clean/adni_het_call_rate_sex_relatedness_geno_chr4\n",
      "plink --bfile /data/vitaled2/test_data/ADNI/clean/adni_het_call_rate_sex_relatedness_geno-updated-chr5 --recode vcf --chr 5 --out /data/vitaled2/test_data/ADNI/clean/adni_het_call_rate_sex_relatedness_geno_chr5\n",
      "plink --bfile /data/vitaled2/test_data/ADNI/clean/adni_het_call_rate_sex_relatedness_geno-updated-chr6 --recode vcf --chr 6 --out /data/vitaled2/test_data/ADNI/clean/adni_het_call_rate_sex_relatedness_geno_chr6\n",
      "plink --bfile /data/vitaled2/test_data/ADNI/clean/adni_het_call_rate_sex_relatedness_geno-updated-chr7 --recode vcf --chr 7 --out /data/vitaled2/test_data/ADNI/clean/adni_het_call_rate_sex_relatedness_geno_chr7\n",
      "plink --bfile /data/vitaled2/test_data/ADNI/clean/adni_het_call_rate_sex_relatedness_geno-updated-chr8 --recode vcf --chr 8 --out /data/vitaled2/test_data/ADNI/clean/adni_het_call_rate_sex_relatedness_geno_chr8\n",
      "plink --bfile /data/vitaled2/test_data/ADNI/clean/adni_het_call_rate_sex_relatedness_geno-updated-chr9 --recode vcf --chr 9 --out /data/vitaled2/test_data/ADNI/clean/adni_het_call_rate_sex_relatedness_geno_chr9\n",
      "plink --bfile /data/vitaled2/test_data/ADNI/clean/adni_het_call_rate_sex_relatedness_geno-updated-chr10 --recode vcf --chr 10 --out /data/vitaled2/test_data/ADNI/clean/adni_het_call_rate_sex_relatedness_geno_chr10\n",
      "plink --bfile /data/vitaled2/test_data/ADNI/clean/adni_het_call_rate_sex_relatedness_geno-updated-chr11 --recode vcf --chr 11 --out /data/vitaled2/test_data/ADNI/clean/adni_het_call_rate_sex_relatedness_geno_chr11\n",
      "plink --bfile /data/vitaled2/test_data/ADNI/clean/adni_het_call_rate_sex_relatedness_geno-updated-chr12 --recode vcf --chr 12 --out /data/vitaled2/test_data/ADNI/clean/adni_het_call_rate_sex_relatedness_geno_chr12\n",
      "plink --bfile /data/vitaled2/test_data/ADNI/clean/adni_het_call_rate_sex_relatedness_geno-updated-chr13 --recode vcf --chr 13 --out /data/vitaled2/test_data/ADNI/clean/adni_het_call_rate_sex_relatedness_geno_chr13\n",
      "plink --bfile /data/vitaled2/test_data/ADNI/clean/adni_het_call_rate_sex_relatedness_geno-updated-chr14 --recode vcf --chr 14 --out /data/vitaled2/test_data/ADNI/clean/adni_het_call_rate_sex_relatedness_geno_chr14\n",
      "plink --bfile /data/vitaled2/test_data/ADNI/clean/adni_het_call_rate_sex_relatedness_geno-updated-chr15 --recode vcf --chr 15 --out /data/vitaled2/test_data/ADNI/clean/adni_het_call_rate_sex_relatedness_geno_chr15\n",
      "plink --bfile /data/vitaled2/test_data/ADNI/clean/adni_het_call_rate_sex_relatedness_geno-updated-chr16 --recode vcf --chr 16 --out /data/vitaled2/test_data/ADNI/clean/adni_het_call_rate_sex_relatedness_geno_chr16\n",
      "plink --bfile /data/vitaled2/test_data/ADNI/clean/adni_het_call_rate_sex_relatedness_geno-updated-chr17 --recode vcf --chr 17 --out /data/vitaled2/test_data/ADNI/clean/adni_het_call_rate_sex_relatedness_geno_chr17\n",
      "plink --bfile /data/vitaled2/test_data/ADNI/clean/adni_het_call_rate_sex_relatedness_geno-updated-chr18 --recode vcf --chr 18 --out /data/vitaled2/test_data/ADNI/clean/adni_het_call_rate_sex_relatedness_geno_chr18\n",
      "plink --bfile /data/vitaled2/test_data/ADNI/clean/adni_het_call_rate_sex_relatedness_geno-updated-chr19 --recode vcf --chr 19 --out /data/vitaled2/test_data/ADNI/clean/adni_het_call_rate_sex_relatedness_geno_chr19\n",
      "plink --bfile /data/vitaled2/test_data/ADNI/clean/adni_het_call_rate_sex_relatedness_geno-updated-chr20 --recode vcf --chr 20 --out /data/vitaled2/test_data/ADNI/clean/adni_het_call_rate_sex_relatedness_geno_chr20\n",
      "plink --bfile /data/vitaled2/test_data/ADNI/clean/adni_het_call_rate_sex_relatedness_geno-updated-chr21 --recode vcf --chr 21 --out /data/vitaled2/test_data/ADNI/clean/adni_het_call_rate_sex_relatedness_geno_chr21\n",
      "plink --bfile /data/vitaled2/test_data/ADNI/clean/adni_het_call_rate_sex_relatedness_geno-updated-chr22 --recode vcf --chr 22 --out /data/vitaled2/test_data/ADNI/clean/adni_het_call_rate_sex_relatedness_geno_chr22\n",
      "plink --bfile /data/vitaled2/test_data/ADNI/clean/adni_het_call_rate_sex_relatedness_geno-updated-chr23 --recode vcf --chr 23 --out /data/vitaled2/test_data/ADNI/clean/adni_het_call_rate_sex_relatedness_geno_chr23\n",
      "vcf-sort /data/vitaled2/test_data/ADNI/clean/adni_het_call_rate_sex_relatedness_geno_chr1.vcf | bgzip -c > pre_impute_/data/vitaled2/test_data/ADNI/clean/adni_het_call_rate_sex_relatedness_geno1.vcf.gz\n",
      "vcf-sort /data/vitaled2/test_data/ADNI/clean/adni_het_call_rate_sex_relatedness_geno_chr2.vcf | bgzip -c > pre_impute_/data/vitaled2/test_data/ADNI/clean/adni_het_call_rate_sex_relatedness_geno2.vcf.gz\n",
      "vcf-sort /data/vitaled2/test_data/ADNI/clean/adni_het_call_rate_sex_relatedness_geno_chr3.vcf | bgzip -c > pre_impute_/data/vitaled2/test_data/ADNI/clean/adni_het_call_rate_sex_relatedness_geno3.vcf.gz\n",
      "vcf-sort /data/vitaled2/test_data/ADNI/clean/adni_het_call_rate_sex_relatedness_geno_chr4.vcf | bgzip -c > pre_impute_/data/vitaled2/test_data/ADNI/clean/adni_het_call_rate_sex_relatedness_geno4.vcf.gz\n",
      "vcf-sort /data/vitaled2/test_data/ADNI/clean/adni_het_call_rate_sex_relatedness_geno_chr5.vcf | bgzip -c > pre_impute_/data/vitaled2/test_data/ADNI/clean/adni_het_call_rate_sex_relatedness_geno5.vcf.gz\n",
      "vcf-sort /data/vitaled2/test_data/ADNI/clean/adni_het_call_rate_sex_relatedness_geno_chr6.vcf | bgzip -c > pre_impute_/data/vitaled2/test_data/ADNI/clean/adni_het_call_rate_sex_relatedness_geno6.vcf.gz\n",
      "vcf-sort /data/vitaled2/test_data/ADNI/clean/adni_het_call_rate_sex_relatedness_geno_chr7.vcf | bgzip -c > pre_impute_/data/vitaled2/test_data/ADNI/clean/adni_het_call_rate_sex_relatedness_geno7.vcf.gz\n",
      "vcf-sort /data/vitaled2/test_data/ADNI/clean/adni_het_call_rate_sex_relatedness_geno_chr8.vcf | bgzip -c > pre_impute_/data/vitaled2/test_data/ADNI/clean/adni_het_call_rate_sex_relatedness_geno8.vcf.gz\n",
      "vcf-sort /data/vitaled2/test_data/ADNI/clean/adni_het_call_rate_sex_relatedness_geno_chr9.vcf | bgzip -c > pre_impute_/data/vitaled2/test_data/ADNI/clean/adni_het_call_rate_sex_relatedness_geno9.vcf.gz\n",
      "vcf-sort /data/vitaled2/test_data/ADNI/clean/adni_het_call_rate_sex_relatedness_geno_chr10.vcf | bgzip -c > pre_impute_/data/vitaled2/test_data/ADNI/clean/adni_het_call_rate_sex_relatedness_geno10.vcf.gz\n",
      "vcf-sort /data/vitaled2/test_data/ADNI/clean/adni_het_call_rate_sex_relatedness_geno_chr11.vcf | bgzip -c > pre_impute_/data/vitaled2/test_data/ADNI/clean/adni_het_call_rate_sex_relatedness_geno11.vcf.gz\n",
      "vcf-sort /data/vitaled2/test_data/ADNI/clean/adni_het_call_rate_sex_relatedness_geno_chr12.vcf | bgzip -c > pre_impute_/data/vitaled2/test_data/ADNI/clean/adni_het_call_rate_sex_relatedness_geno12.vcf.gz\n",
      "vcf-sort /data/vitaled2/test_data/ADNI/clean/adni_het_call_rate_sex_relatedness_geno_chr13.vcf | bgzip -c > pre_impute_/data/vitaled2/test_data/ADNI/clean/adni_het_call_rate_sex_relatedness_geno13.vcf.gz\n",
      "vcf-sort /data/vitaled2/test_data/ADNI/clean/adni_het_call_rate_sex_relatedness_geno_chr14.vcf | bgzip -c > pre_impute_/data/vitaled2/test_data/ADNI/clean/adni_het_call_rate_sex_relatedness_geno14.vcf.gz\n",
      "vcf-sort /data/vitaled2/test_data/ADNI/clean/adni_het_call_rate_sex_relatedness_geno_chr15.vcf | bgzip -c > pre_impute_/data/vitaled2/test_data/ADNI/clean/adni_het_call_rate_sex_relatedness_geno15.vcf.gz\n",
      "vcf-sort /data/vitaled2/test_data/ADNI/clean/adni_het_call_rate_sex_relatedness_geno_chr16.vcf | bgzip -c > pre_impute_/data/vitaled2/test_data/ADNI/clean/adni_het_call_rate_sex_relatedness_geno16.vcf.gz\n",
      "vcf-sort /data/vitaled2/test_data/ADNI/clean/adni_het_call_rate_sex_relatedness_geno_chr17.vcf | bgzip -c > pre_impute_/data/vitaled2/test_data/ADNI/clean/adni_het_call_rate_sex_relatedness_geno17.vcf.gz\n",
      "vcf-sort /data/vitaled2/test_data/ADNI/clean/adni_het_call_rate_sex_relatedness_geno_chr18.vcf | bgzip -c > pre_impute_/data/vitaled2/test_data/ADNI/clean/adni_het_call_rate_sex_relatedness_geno18.vcf.gz\n",
      "vcf-sort /data/vitaled2/test_data/ADNI/clean/adni_het_call_rate_sex_relatedness_geno_chr19.vcf | bgzip -c > pre_impute_/data/vitaled2/test_data/ADNI/clean/adni_het_call_rate_sex_relatedness_geno19.vcf.gz\n",
      "vcf-sort /data/vitaled2/test_data/ADNI/clean/adni_het_call_rate_sex_relatedness_geno_chr20.vcf | bgzip -c > pre_impute_/data/vitaled2/test_data/ADNI/clean/adni_het_call_rate_sex_relatedness_geno20.vcf.gz\n",
      "vcf-sort /data/vitaled2/test_data/ADNI/clean/adni_het_call_rate_sex_relatedness_geno_chr21.vcf | bgzip -c > pre_impute_/data/vitaled2/test_data/ADNI/clean/adni_het_call_rate_sex_relatedness_geno21.vcf.gz\n",
      "vcf-sort /data/vitaled2/test_data/ADNI/clean/adni_het_call_rate_sex_relatedness_geno_chr22.vcf | bgzip -c > pre_impute_/data/vitaled2/test_data/ADNI/clean/adni_het_call_rate_sex_relatedness_geno22.vcf.gz\n",
      "vcf-sort /data/vitaled2/test_data/ADNI/clean/adni_het_call_rate_sex_relatedness_geno_chr23.vcf | bgzip -c > pre_impute_/data/vitaled2/test_data/ADNI/clean/adni_het_call_rate_sex_relatedness_geno23.vcf.gz\n"
     ]
    }
   ],
   "source": [
    "# run imputation!!!!!\n",
    "\n",
    "%run -i /data/vitaled2/GWAS/scripts/impute.py\\\n",
    "--geno /data/vitaled2/test_data/ADNI/clean/adni_het_call_rate_sex_relatedness_geno\\\n",
    "--out /data/vitaled2/test_data/ADNI/imputed/"
   ]
  },
  {
   "cell_type": "code",
   "execution_count": 1,
   "metadata": {},
   "outputs": [
    {
     "name": "stdout",
     "output_type": "stream",
     "text": [
      "NOW PARSING: \n",
      "/data/vitaled2/summary_stats/rvtest_files/toMeta.COURAGE_UK.tab\n",
      "/data/vitaled2/summary_stats/rvtest_files/toMeta.IPDGC.tab\n",
      "/data/vitaled2/summary_stats/rvtest_files/toMeta.HBS.tab\n",
      "/data/vitaled2/summary_stats/rvtest_files/toMeta.PPMI.tab\n",
      "/data/vitaled2/summary_stats/rvtest_files/toMeta.PDBP.tab\n",
      "TO PLINK .assoc FORMAT\n",
      "\n",
      "Parsing...\n",
      "\n"
     ]
    },
    {
     "ename": "KeyboardInterrupt",
     "evalue": "",
     "output_type": "error",
     "traceback": [
      "\u001b[0;31m---------------------------------------------------------------------------\u001b[0m",
      "\u001b[0;31mKeyboardInterrupt\u001b[0m                         Traceback (most recent call last)",
      "\u001b[0;32m/data/vitaled2/GWAS/scripts/meta_analysis_data_prep.py\u001b[0m in \u001b[0;36m<module>\u001b[0;34m\u001b[0m\n\u001b[1;32m    113\u001b[0m     \u001b[0mprint\u001b[0m\u001b[0;34m(\u001b[0m\u001b[0;34m)\u001b[0m\u001b[0;34m\u001b[0m\u001b[0;34m\u001b[0m\u001b[0m\n\u001b[1;32m    114\u001b[0m \u001b[0;34m\u001b[0m\u001b[0m\n\u001b[0;32m--> 115\u001b[0;31m     \u001b[0mplink_meta_parse\u001b[0m\u001b[0;34m(\u001b[0m\u001b[0min_tab\u001b[0m\u001b[0;34m,\u001b[0m \u001b[0mout_plink\u001b[0m\u001b[0;34m)\u001b[0m\u001b[0;34m\u001b[0m\u001b[0;34m\u001b[0m\u001b[0m\n\u001b[0m\u001b[1;32m    116\u001b[0m \u001b[0;34m\u001b[0m\u001b[0m\n\u001b[1;32m    117\u001b[0m \u001b[0;32mif\u001b[0m \u001b[0;34m(\u001b[0m\u001b[0min_tab\u001b[0m \u001b[0;34m!=\u001b[0m \u001b[0;34m\"nope\"\u001b[0m\u001b[0;34m)\u001b[0m \u001b[0;34m&\u001b[0m \u001b[0;34m(\u001b[0m\u001b[0mout_metasoft\u001b[0m \u001b[0;34m!=\u001b[0m \u001b[0;34m\"nope\"\u001b[0m\u001b[0;34m)\u001b[0m\u001b[0;34m:\u001b[0m\u001b[0;34m\u001b[0m\u001b[0;34m\u001b[0m\u001b[0m\n",
      "\u001b[0;32m/data/vitaled2/GWAS/scripts/meta_analysis_data_prep.py\u001b[0m in \u001b[0;36mplink_meta_parse\u001b[0;34m(tab_path, out_path)\u001b[0m\n\u001b[1;32m     26\u001b[0m     \u001b[0mfile_list\u001b[0m \u001b[0;34m=\u001b[0m \u001b[0mglob\u001b[0m\u001b[0;34m.\u001b[0m\u001b[0mglob\u001b[0m\u001b[0;34m(\u001b[0m\u001b[0mtab_path\u001b[0m \u001b[0;34m+\u001b[0m \u001b[0;34m'*.tab'\u001b[0m\u001b[0;34m)\u001b[0m\u001b[0;34m\u001b[0m\u001b[0;34m\u001b[0m\u001b[0m\n\u001b[1;32m     27\u001b[0m     \u001b[0msuffixes\u001b[0m \u001b[0;34m=\u001b[0m \u001b[0;34m[\u001b[0m\u001b[0mre\u001b[0m\u001b[0;34m.\u001b[0m\u001b[0msearch\u001b[0m\u001b[0;34m(\u001b[0m\u001b[0;34mr'\\.(.*?)\\.'\u001b[0m\u001b[0;34m,\u001b[0m \u001b[0mcohort\u001b[0m\u001b[0;34m)\u001b[0m\u001b[0;34m.\u001b[0m\u001b[0mgroup\u001b[0m\u001b[0;34m(\u001b[0m\u001b[0;36m1\u001b[0m\u001b[0;34m)\u001b[0m \u001b[0;32mfor\u001b[0m \u001b[0mcohort\u001b[0m \u001b[0;32min\u001b[0m \u001b[0mfile_list\u001b[0m\u001b[0;34m]\u001b[0m\u001b[0;34m\u001b[0m\u001b[0;34m\u001b[0m\u001b[0m\n\u001b[0;32m---> 28\u001b[0;31m     \u001b[0msummary_data_list\u001b[0m \u001b[0;34m=\u001b[0m \u001b[0;34m[\u001b[0m\u001b[0mpd\u001b[0m\u001b[0;34m.\u001b[0m\u001b[0mread_csv\u001b[0m\u001b[0;34m(\u001b[0m\u001b[0mfile\u001b[0m\u001b[0;34m,\u001b[0m \u001b[0msep\u001b[0m\u001b[0;34m=\u001b[0m\u001b[0;34m'\\t'\u001b[0m\u001b[0;34m)\u001b[0m \u001b[0;32mfor\u001b[0m \u001b[0mfile\u001b[0m \u001b[0;32min\u001b[0m \u001b[0mfile_list\u001b[0m\u001b[0;34m]\u001b[0m\u001b[0;34m\u001b[0m\u001b[0;34m\u001b[0m\u001b[0m\n\u001b[0m\u001b[1;32m     29\u001b[0m     \u001b[0;32mfor\u001b[0m \u001b[0mi\u001b[0m \u001b[0;32min\u001b[0m \u001b[0mrange\u001b[0m\u001b[0;34m(\u001b[0m\u001b[0mlen\u001b[0m\u001b[0;34m(\u001b[0m\u001b[0msummary_data_list\u001b[0m\u001b[0;34m)\u001b[0m\u001b[0;34m)\u001b[0m\u001b[0;34m:\u001b[0m\u001b[0;34m\u001b[0m\u001b[0;34m\u001b[0m\u001b[0m\n\u001b[1;32m     30\u001b[0m         \u001b[0mdf\u001b[0m \u001b[0;34m=\u001b[0m \u001b[0msummary_data_list\u001b[0m\u001b[0;34m[\u001b[0m\u001b[0mi\u001b[0m\u001b[0;34m]\u001b[0m\u001b[0;34m\u001b[0m\u001b[0;34m\u001b[0m\u001b[0m\n",
      "\u001b[0;32m/data/vitaled2/GWAS/scripts/meta_analysis_data_prep.py\u001b[0m in \u001b[0;36m<listcomp>\u001b[0;34m(.0)\u001b[0m\n\u001b[1;32m     26\u001b[0m     \u001b[0mfile_list\u001b[0m \u001b[0;34m=\u001b[0m \u001b[0mglob\u001b[0m\u001b[0;34m.\u001b[0m\u001b[0mglob\u001b[0m\u001b[0;34m(\u001b[0m\u001b[0mtab_path\u001b[0m \u001b[0;34m+\u001b[0m \u001b[0;34m'*.tab'\u001b[0m\u001b[0;34m)\u001b[0m\u001b[0;34m\u001b[0m\u001b[0;34m\u001b[0m\u001b[0m\n\u001b[1;32m     27\u001b[0m     \u001b[0msuffixes\u001b[0m \u001b[0;34m=\u001b[0m \u001b[0;34m[\u001b[0m\u001b[0mre\u001b[0m\u001b[0;34m.\u001b[0m\u001b[0msearch\u001b[0m\u001b[0;34m(\u001b[0m\u001b[0;34mr'\\.(.*?)\\.'\u001b[0m\u001b[0;34m,\u001b[0m \u001b[0mcohort\u001b[0m\u001b[0;34m)\u001b[0m\u001b[0;34m.\u001b[0m\u001b[0mgroup\u001b[0m\u001b[0;34m(\u001b[0m\u001b[0;36m1\u001b[0m\u001b[0;34m)\u001b[0m \u001b[0;32mfor\u001b[0m \u001b[0mcohort\u001b[0m \u001b[0;32min\u001b[0m \u001b[0mfile_list\u001b[0m\u001b[0;34m]\u001b[0m\u001b[0;34m\u001b[0m\u001b[0;34m\u001b[0m\u001b[0m\n\u001b[0;32m---> 28\u001b[0;31m     \u001b[0msummary_data_list\u001b[0m \u001b[0;34m=\u001b[0m \u001b[0;34m[\u001b[0m\u001b[0mpd\u001b[0m\u001b[0;34m.\u001b[0m\u001b[0mread_csv\u001b[0m\u001b[0;34m(\u001b[0m\u001b[0mfile\u001b[0m\u001b[0;34m,\u001b[0m \u001b[0msep\u001b[0m\u001b[0;34m=\u001b[0m\u001b[0;34m'\\t'\u001b[0m\u001b[0;34m)\u001b[0m \u001b[0;32mfor\u001b[0m \u001b[0mfile\u001b[0m \u001b[0;32min\u001b[0m \u001b[0mfile_list\u001b[0m\u001b[0;34m]\u001b[0m\u001b[0;34m\u001b[0m\u001b[0;34m\u001b[0m\u001b[0m\n\u001b[0m\u001b[1;32m     29\u001b[0m     \u001b[0;32mfor\u001b[0m \u001b[0mi\u001b[0m \u001b[0;32min\u001b[0m \u001b[0mrange\u001b[0m\u001b[0;34m(\u001b[0m\u001b[0mlen\u001b[0m\u001b[0;34m(\u001b[0m\u001b[0msummary_data_list\u001b[0m\u001b[0;34m)\u001b[0m\u001b[0;34m)\u001b[0m\u001b[0;34m:\u001b[0m\u001b[0;34m\u001b[0m\u001b[0;34m\u001b[0m\u001b[0m\n\u001b[1;32m     30\u001b[0m         \u001b[0mdf\u001b[0m \u001b[0;34m=\u001b[0m \u001b[0msummary_data_list\u001b[0m\u001b[0;34m[\u001b[0m\u001b[0mi\u001b[0m\u001b[0;34m]\u001b[0m\u001b[0;34m\u001b[0m\u001b[0;34m\u001b[0m\u001b[0m\n",
      "\u001b[0;32m/usr/local/Anaconda/envs/jupyter/lib/python3.6/site-packages/pandas/io/parsers.py\u001b[0m in \u001b[0;36mparser_f\u001b[0;34m(filepath_or_buffer, sep, delimiter, header, names, index_col, usecols, squeeze, prefix, mangle_dupe_cols, dtype, engine, converters, true_values, false_values, skipinitialspace, skiprows, skipfooter, nrows, na_values, keep_default_na, na_filter, verbose, skip_blank_lines, parse_dates, infer_datetime_format, keep_date_col, date_parser, dayfirst, cache_dates, iterator, chunksize, compression, thousands, decimal, lineterminator, quotechar, quoting, doublequote, escapechar, comment, encoding, dialect, error_bad_lines, warn_bad_lines, delim_whitespace, low_memory, memory_map, float_precision)\u001b[0m\n\u001b[1;32m    683\u001b[0m         )\n\u001b[1;32m    684\u001b[0m \u001b[0;34m\u001b[0m\u001b[0m\n\u001b[0;32m--> 685\u001b[0;31m         \u001b[0;32mreturn\u001b[0m \u001b[0m_read\u001b[0m\u001b[0;34m(\u001b[0m\u001b[0mfilepath_or_buffer\u001b[0m\u001b[0;34m,\u001b[0m \u001b[0mkwds\u001b[0m\u001b[0;34m)\u001b[0m\u001b[0;34m\u001b[0m\u001b[0;34m\u001b[0m\u001b[0m\n\u001b[0m\u001b[1;32m    686\u001b[0m \u001b[0;34m\u001b[0m\u001b[0m\n\u001b[1;32m    687\u001b[0m     \u001b[0mparser_f\u001b[0m\u001b[0;34m.\u001b[0m\u001b[0m__name__\u001b[0m \u001b[0;34m=\u001b[0m \u001b[0mname\u001b[0m\u001b[0;34m\u001b[0m\u001b[0;34m\u001b[0m\u001b[0m\n",
      "\u001b[0;32m/usr/local/Anaconda/envs/jupyter/lib/python3.6/site-packages/pandas/io/parsers.py\u001b[0m in \u001b[0;36m_read\u001b[0;34m(filepath_or_buffer, kwds)\u001b[0m\n\u001b[1;32m    461\u001b[0m \u001b[0;34m\u001b[0m\u001b[0m\n\u001b[1;32m    462\u001b[0m     \u001b[0;32mtry\u001b[0m\u001b[0;34m:\u001b[0m\u001b[0;34m\u001b[0m\u001b[0;34m\u001b[0m\u001b[0m\n\u001b[0;32m--> 463\u001b[0;31m         \u001b[0mdata\u001b[0m \u001b[0;34m=\u001b[0m \u001b[0mparser\u001b[0m\u001b[0;34m.\u001b[0m\u001b[0mread\u001b[0m\u001b[0;34m(\u001b[0m\u001b[0mnrows\u001b[0m\u001b[0;34m)\u001b[0m\u001b[0;34m\u001b[0m\u001b[0;34m\u001b[0m\u001b[0m\n\u001b[0m\u001b[1;32m    464\u001b[0m     \u001b[0;32mfinally\u001b[0m\u001b[0;34m:\u001b[0m\u001b[0;34m\u001b[0m\u001b[0;34m\u001b[0m\u001b[0m\n\u001b[1;32m    465\u001b[0m         \u001b[0mparser\u001b[0m\u001b[0;34m.\u001b[0m\u001b[0mclose\u001b[0m\u001b[0;34m(\u001b[0m\u001b[0;34m)\u001b[0m\u001b[0;34m\u001b[0m\u001b[0;34m\u001b[0m\u001b[0m\n",
      "\u001b[0;32m/usr/local/Anaconda/envs/jupyter/lib/python3.6/site-packages/pandas/io/parsers.py\u001b[0m in \u001b[0;36mread\u001b[0;34m(self, nrows)\u001b[0m\n\u001b[1;32m   1152\u001b[0m     \u001b[0;32mdef\u001b[0m \u001b[0mread\u001b[0m\u001b[0;34m(\u001b[0m\u001b[0mself\u001b[0m\u001b[0;34m,\u001b[0m \u001b[0mnrows\u001b[0m\u001b[0;34m=\u001b[0m\u001b[0;32mNone\u001b[0m\u001b[0;34m)\u001b[0m\u001b[0;34m:\u001b[0m\u001b[0;34m\u001b[0m\u001b[0;34m\u001b[0m\u001b[0m\n\u001b[1;32m   1153\u001b[0m         \u001b[0mnrows\u001b[0m \u001b[0;34m=\u001b[0m \u001b[0m_validate_integer\u001b[0m\u001b[0;34m(\u001b[0m\u001b[0;34m\"nrows\"\u001b[0m\u001b[0;34m,\u001b[0m \u001b[0mnrows\u001b[0m\u001b[0;34m)\u001b[0m\u001b[0;34m\u001b[0m\u001b[0;34m\u001b[0m\u001b[0m\n\u001b[0;32m-> 1154\u001b[0;31m         \u001b[0mret\u001b[0m \u001b[0;34m=\u001b[0m \u001b[0mself\u001b[0m\u001b[0;34m.\u001b[0m\u001b[0m_engine\u001b[0m\u001b[0;34m.\u001b[0m\u001b[0mread\u001b[0m\u001b[0;34m(\u001b[0m\u001b[0mnrows\u001b[0m\u001b[0;34m)\u001b[0m\u001b[0;34m\u001b[0m\u001b[0;34m\u001b[0m\u001b[0m\n\u001b[0m\u001b[1;32m   1155\u001b[0m \u001b[0;34m\u001b[0m\u001b[0m\n\u001b[1;32m   1156\u001b[0m         \u001b[0;31m# May alter columns / col_dict\u001b[0m\u001b[0;34m\u001b[0m\u001b[0;34m\u001b[0m\u001b[0;34m\u001b[0m\u001b[0m\n",
      "\u001b[0;32m/usr/local/Anaconda/envs/jupyter/lib/python3.6/site-packages/pandas/io/parsers.py\u001b[0m in \u001b[0;36mread\u001b[0;34m(self, nrows)\u001b[0m\n\u001b[1;32m   2057\u001b[0m     \u001b[0;32mdef\u001b[0m \u001b[0mread\u001b[0m\u001b[0;34m(\u001b[0m\u001b[0mself\u001b[0m\u001b[0;34m,\u001b[0m \u001b[0mnrows\u001b[0m\u001b[0;34m=\u001b[0m\u001b[0;32mNone\u001b[0m\u001b[0;34m)\u001b[0m\u001b[0;34m:\u001b[0m\u001b[0;34m\u001b[0m\u001b[0;34m\u001b[0m\u001b[0m\n\u001b[1;32m   2058\u001b[0m         \u001b[0;32mtry\u001b[0m\u001b[0;34m:\u001b[0m\u001b[0;34m\u001b[0m\u001b[0;34m\u001b[0m\u001b[0m\n\u001b[0;32m-> 2059\u001b[0;31m             \u001b[0mdata\u001b[0m \u001b[0;34m=\u001b[0m \u001b[0mself\u001b[0m\u001b[0;34m.\u001b[0m\u001b[0m_reader\u001b[0m\u001b[0;34m.\u001b[0m\u001b[0mread\u001b[0m\u001b[0;34m(\u001b[0m\u001b[0mnrows\u001b[0m\u001b[0;34m)\u001b[0m\u001b[0;34m\u001b[0m\u001b[0;34m\u001b[0m\u001b[0m\n\u001b[0m\u001b[1;32m   2060\u001b[0m         \u001b[0;32mexcept\u001b[0m \u001b[0mStopIteration\u001b[0m\u001b[0;34m:\u001b[0m\u001b[0;34m\u001b[0m\u001b[0;34m\u001b[0m\u001b[0m\n\u001b[1;32m   2061\u001b[0m             \u001b[0;32mif\u001b[0m \u001b[0mself\u001b[0m\u001b[0;34m.\u001b[0m\u001b[0m_first_chunk\u001b[0m\u001b[0;34m:\u001b[0m\u001b[0;34m\u001b[0m\u001b[0;34m\u001b[0m\u001b[0m\n",
      "\u001b[0;32mpandas/_libs/parsers.pyx\u001b[0m in \u001b[0;36mpandas._libs.parsers.TextReader.read\u001b[0;34m()\u001b[0m\n",
      "\u001b[0;32mpandas/_libs/parsers.pyx\u001b[0m in \u001b[0;36mpandas._libs.parsers.TextReader._read_low_memory\u001b[0;34m()\u001b[0m\n",
      "\u001b[0;32mpandas/_libs/parsers.pyx\u001b[0m in \u001b[0;36mpandas._libs.parsers.TextReader._read_rows\u001b[0;34m()\u001b[0m\n",
      "\u001b[0;32mpandas/_libs/parsers.pyx\u001b[0m in \u001b[0;36mpandas._libs.parsers.TextReader._convert_column_data\u001b[0;34m()\u001b[0m\n",
      "\u001b[0;32mpandas/_libs/parsers.pyx\u001b[0m in \u001b[0;36mpandas._libs.parsers.TextReader._convert_tokens\u001b[0;34m()\u001b[0m\n",
      "\u001b[0;32mpandas/_libs/parsers.pyx\u001b[0m in \u001b[0;36mpandas._libs.parsers.TextReader._convert_with_dtype\u001b[0;34m()\u001b[0m\n",
      "\u001b[0;32m/usr/local/Anaconda/envs/jupyter/lib/python3.6/site-packages/pandas/core/dtypes/common.py\u001b[0m in \u001b[0;36mis_categorical_dtype\u001b[0;34m(arr_or_dtype)\u001b[0m\n\u001b[1;32m    676\u001b[0m \u001b[0;34m\u001b[0m\u001b[0m\n\u001b[1;32m    677\u001b[0m \u001b[0;34m\u001b[0m\u001b[0m\n\u001b[0;32m--> 678\u001b[0;31m \u001b[0;32mdef\u001b[0m \u001b[0mis_categorical_dtype\u001b[0m\u001b[0;34m(\u001b[0m\u001b[0marr_or_dtype\u001b[0m\u001b[0;34m)\u001b[0m\u001b[0;34m:\u001b[0m\u001b[0;34m\u001b[0m\u001b[0;34m\u001b[0m\u001b[0m\n\u001b[0m\u001b[1;32m    679\u001b[0m     \"\"\"\n\u001b[1;32m    680\u001b[0m     \u001b[0mCheck\u001b[0m \u001b[0mwhether\u001b[0m \u001b[0man\u001b[0m \u001b[0marray\u001b[0m\u001b[0;34m-\u001b[0m\u001b[0mlike\u001b[0m \u001b[0;32mor\u001b[0m \u001b[0mdtype\u001b[0m \u001b[0;32mis\u001b[0m \u001b[0mof\u001b[0m \u001b[0mthe\u001b[0m \u001b[0mCategorical\u001b[0m \u001b[0mdtype\u001b[0m\u001b[0;34m.\u001b[0m\u001b[0;34m\u001b[0m\u001b[0;34m\u001b[0m\u001b[0m\n",
      "\u001b[0;31mKeyboardInterrupt\u001b[0m: "
     ]
    }
   ],
   "source": [
    "# run data prep for meta analysis\n",
    "%run -i /data/vitaled2/GWAS/scripts/meta_analysis_data_prep.py\\\n",
    "--tab /data/vitaled2/summary_stats/rvtest_files/\\\n",
    "--out_gwama /data/vitaled2/summary_stats/\\\n",
    "--out_metasoft /data/vitaled2/summary_stats/\\\n",
    "--out_plink /data/vitaled2/summary_stats/"
   ]
  },
  {
   "cell_type": "code",
   "execution_count": null,
   "metadata": {},
   "outputs": [],
   "source": []
  },
  {
   "cell_type": "code",
   "execution_count": null,
   "metadata": {},
   "outputs": [],
   "source": []
  }
 ],
 "metadata": {
  "kernelspec": {
   "display_name": "Python 3",
   "language": "python",
   "name": "python3"
  },
  "language_info": {
   "codemirror_mode": {
    "name": "ipython",
    "version": 3
   },
   "file_extension": ".py",
   "mimetype": "text/x-python",
   "name": "python",
   "nbconvert_exporter": "python",
   "pygments_lexer": "ipython3",
   "version": "3.6.7"
  }
 },
 "nbformat": 4,
 "nbformat_minor": 4
}
